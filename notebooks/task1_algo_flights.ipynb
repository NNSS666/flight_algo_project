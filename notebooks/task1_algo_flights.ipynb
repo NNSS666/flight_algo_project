{
  "nbformat": 4,
  "nbformat_minor": 0,
  "metadata": {
    "colab": {
      "provenance": [],
      "authorship_tag": "ABX9TyNJfKPULcly/GyS6XC+KW9q",
      "include_colab_link": true
    },
    "kernelspec": {
      "name": "python3",
      "display_name": "Python 3"
    },
    "language_info": {
      "name": "python"
    }
  },
  "cells": [
    {
      "cell_type": "markdown",
      "metadata": {
        "id": "view-in-github",
        "colab_type": "text"
      },
      "source": [
        "<a href=\"https://colab.research.google.com/github/NNSS666/flight_algo_project/blob/develop/notebooks/task1_algo_flights.ipynb\" target=\"_parent\"><img src=\"https://colab.research.google.com/assets/colab-badge.svg\" alt=\"Open In Colab\"/></a>"
      ]
    },
    {
      "cell_type": "code",
      "execution_count": 1,
      "metadata": {
        "id": "jCNQuNZ6gZZ9"
      },
      "outputs": [],
      "source": [
        "import csv\n",
        "import time\n",
        "import math\n",
        "import statistics\n",
        "import urllib.request\n"
      ]
    }
  ]
}